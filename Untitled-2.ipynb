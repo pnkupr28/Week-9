{
 "cells": [
  {
   "cell_type": "code",
   "execution_count": 2,
   "metadata": {},
   "outputs": [
    {
     "data": {
      "text/plain": [
       "'A'"
      ]
     },
     "execution_count": 2,
     "metadata": {},
     "output_type": "execute_result"
    }
   ],
   "source": [
    "kevin_details = {\n",
    "\"colby id\": 12345,\n",
    "\"grade\": \"A\"\n",
    "\n",
    "}\n",
    "\n",
    "kevin_details[\"grade\"]"
   ]
  },
  {
   "cell_type": "code",
   "execution_count": 23,
   "metadata": {},
   "outputs": [],
   "source": [
    "class Student:\n",
    "\n",
    "    first_name: str #these are attributes\n",
    "    last_name: str\n",
    "    grade: list[float]\n",
    "    colby_id: int\n",
    "\n",
    "    def __init__(self, f_name:str, l_name:str, grade: str, colby_id: int): ##obstructors, self signifies attributes of the class\n",
    "        self.first_name = f_name\n",
    "        self.last_name = l_name\n",
    "        self.grade = grade\n",
    "        self.colby_id = colby_id\n",
    "\n",
    "\n",
    "    def calc_grade(self) -> float:\n",
    "        total_grade = 0\n",
    "        for each_grade in self.grade:\n",
    "            total_grade += each_grade\n",
    "\n",
    "        return total_grade/len(self.grade)\n",
    "\n"
   ]
  },
  {
   "cell_type": "code",
   "execution_count": 24,
   "metadata": {},
   "outputs": [
    {
     "data": {
      "text/plain": [
       "63.75"
      ]
     },
     "execution_count": 24,
     "metadata": {},
     "output_type": "execute_result"
    }
   ],
   "source": [
    "    kevin = Student(\"Kevin\", \"Doe\", [30, 45, 85, 95], 12345) ##In this case kevin is the object\n",
    "    kevin.calc_grade() ## A function inside of a class is a method"
   ]
  },
  {
   "cell_type": "code",
   "execution_count": 25,
   "metadata": {},
   "outputs": [
    {
     "data": {
      "text/plain": [
       "[30, 45, 85, 95]"
      ]
     },
     "execution_count": 25,
     "metadata": {},
     "output_type": "execute_result"
    }
   ],
   "source": [
    "kevin.first_name\n",
    "kevin.grade"
   ]
  },
  {
   "cell_type": "code",
   "execution_count": 12,
   "metadata": {},
   "outputs": [],
   "source": [
    "class Car:\n",
    "    \n",
    "    brand: str\n",
    "    make: str\n",
    "    color: str\n",
    "    year: int\n",
    "    weight: float\n",
    "    num_of_doors: int\n",
    "    mileage: float\n",
    "\n",
    "    def __init__(self, brand: str, make: str, color: str, year: int, weight: float, num_of_doors: int, mileage: float):\n",
    "        self.brand = brand\n",
    "        self.make = make\n",
    "        self.color = color\n",
    "        self.year = year\n",
    "        self.weight = weight\n",
    "        self.num_of_doors = num_of_doors\n",
    "        self.mileage = mileage\n",
    "\n",
    "\n"
   ]
  },
  {
   "cell_type": "code",
   "execution_count": 13,
   "metadata": {},
   "outputs": [
    {
     "data": {
      "text/plain": [
       "'Corolla'"
      ]
     },
     "execution_count": 13,
     "metadata": {},
     "output_type": "execute_result"
    }
   ],
   "source": [
    "my_car: Car = Car(\"Toyota\", \"Corolla\", \"red\", 2018, 1000, 4, 30)\n",
    "\n",
    "my_car.make"
   ]
  },
  {
   "cell_type": "code",
   "execution_count": null,
   "metadata": {},
   "outputs": [],
   "source": []
  }
 ],
 "metadata": {
  "kernelspec": {
   "display_name": "Python 3",
   "language": "python",
   "name": "python3"
  },
  "language_info": {
   "codemirror_mode": {
    "name": "ipython",
    "version": 3
   },
   "file_extension": ".py",
   "mimetype": "text/x-python",
   "name": "python",
   "nbconvert_exporter": "python",
   "pygments_lexer": "ipython3",
   "version": "3.9.6"
  }
 },
 "nbformat": 4,
 "nbformat_minor": 2
}
