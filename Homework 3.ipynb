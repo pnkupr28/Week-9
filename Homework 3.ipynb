{
 "cells": [
  {
   "cell_type": "markdown",
   "metadata": {},
   "source": [
    "# Homework 3\n",
    "\n",
    "Complete this notebook submit on GitHub"
   ]
  },
  {
   "cell_type": "markdown",
   "metadata": {},
   "source": [
    "## Data Structures"
   ]
  },
  {
   "cell_type": "markdown",
   "metadata": {},
   "source": [
    "Q1. Write a function that takes in a set of words and a list of words and returns a dictionary of the words in the list that are in the set and their count.\n",
    "\n",
    "Example\n",
    "\n",
    "| input | output |\n",
    "|-------|--------|\n",
    "| f({'movie', 'good', 'hello'}, ['hello', 'good', 'hello']) | {'movie': 0, 'hello': 2, 'good': 1} |\n",
    "| f({}, ['hello', 'good', 'movie']) | {} |\n",
    "| f({'hello', 'movie', 'good'}, []) | {'movie': 0, 'hello': 0, 'good': 0} |\n",
    "\n"
   ]
  },
  {
   "cell_type": "code",
   "execution_count": 2,
   "metadata": {},
   "outputs": [
    {
     "name": "stdout",
     "output_type": "stream",
     "text": [
      "{'good': 1, 'movie': 0, 'hello': 2}\n",
      "{}\n",
      "{'good': 0, 'movie': 0, 'hello': 0}\n"
     ]
    }
   ],
   "source": [
    "# Write Q1 here\n",
    "def word_set_count(set_of_words: set[str], list_of_words: list[str]) -> dict[str, int]:\n",
    "    word_count = {}\n",
    "    for word in set_of_words:\n",
    "        word_count[word] = list_of_words.count(word)\n",
    "    return word_count\n",
    "\n",
    "print(word_set_count({'movie', 'good', 'hello'}, ['hello', 'good', 'hello']))\n",
    "print(word_set_count({}, ['hello', 'good', 'movie']))\n",
    "print(word_set_count({'hello', 'movie', 'good'}, []))"
   ]
  },
  {
   "cell_type": "markdown",
   "metadata": {},
   "source": [
    "Q2. Write a function that takes in a string and returns the count of **each alphabet**.\n",
    "\n",
    "| input | output |\n",
    "|-------|--------|\n",
    "| f(\"hello\") | {'h': 1, 'e': 1, 'l': 2, 'o': 1} |\n",
    "| f(\"test\") | {'t': 2, 'e': 1, 's': 1} |\n",
    "| f(\"\") | {} |\n",
    "| f(\"hello test\") | {'h': 1, 'e': 2, 'l': 2, 'o': 1, 't': 2, 's': 1} |\n"
   ]
  },
  {
   "cell_type": "code",
   "execution_count": 3,
   "metadata": {},
   "outputs": [
    {
     "name": "stdout",
     "output_type": "stream",
     "text": [
      "{'h': 1, 'e': 1, 'l': 2, 'o': 1}\n",
      "{'t': 2, 'e': 1, 's': 1}\n",
      "{}\n",
      "{'h': 1, 'e': 2, 'l': 2, 'o': 1, 't': 2, 's': 1}\n"
     ]
    }
   ],
   "source": [
    "# Write Q2 here\n",
    "def count_alphabets(the_string: str) -> dict[str, int]:\n",
    "    alphabet_count = {}\n",
    "    for each_char in the_string:\n",
    "        if each_char.isalpha(): \n",
    "            if each_char in alphabet_count:\n",
    "                alphabet_count[each_char] += 1 \n",
    "            else:\n",
    "                alphabet_count[each_char] = 1  \n",
    "    return alphabet_count\n",
    "\n",
    "print(count_alphabets(\"hello\"))\n",
    "print(count_alphabets(\"test\"))\n",
    "print(count_alphabets(\"\"))\n",
    "print(count_alphabets(\"hello test\"))"
   ]
  },
  {
   "cell_type": "markdown",
   "metadata": {},
   "source": [
    "## Functions"
   ]
  },
  {
   "cell_type": "markdown",
   "metadata": {},
   "source": [
    "Q3. What are functions? How would you define them?\n",
    "**A function is a block of code designed to perform a specific task, which can take inputs, process them, and return an output or perform an action based on those inputs.\n",
    "\n",
    "\n",
    "Q4. What are function signatures?\n",
    "**A function signature defines the name of a function, the parameters it takes, and the type of value it returns, providing a clear description of how the function can be used.\n",
    "\n",
    "\n",
    "Q5. What are parameters? How many parameters can you define in a function?\n",
    "**Parameters are variables in a function's signature that allow the function to receive input values. You can define any number of parameters, but it's best to keep it manageable for clarity.\n",
    "\n",
    "\n",
    "Q6. What is the purpose of a return statement? What happens when you don't have a return statement, what does the function return?\n",
    "**The purpose of a return statement is to send a value back from the function to the caller. If there is no return statement, the function returns None by default.\n",
    "\n",
    "\n",
    "Q7. Write a function `process_string` that processes string as follows (note the order of each step is not important):\n",
    "\n",
    "\n",
    "* Replaces spaces with \"_\"\n",
    "* Convert lowercase letters to uppercase letters\n",
    "* Remove vowels from each word\n",
    "* Reverse the string\n",
    "* Write a wrapper function\n",
    "\n",
    "For each task write a single function and then call those functions in `process_string`\n",
    "\n",
    "\n",
    "| input | output |\n",
    "|-------|--------|\n",
    "| processing_string(\"Hello World\") | WRLD_HLL |\n",
    "| process_string(\"How are you doing?\") | DNG_Y_R_HW |\n",
    "| process_string(\"World\") | WRLD |\n",
    "\n",
    "\n",
    "Q8. Write a function that checks if a number is prime or not. Note that the definition of a prime number is that it is only divisble by 1 and itself. "
   ]
  },
  {
   "cell_type": "code",
   "execution_count": 41,
   "metadata": {},
   "outputs": [
    {
     "name": "stdout",
     "output_type": "stream",
     "text": [
      "WRLD_HLL\n",
      "DNG?_Y_R_HW\n",
      "WRLD\n"
     ]
    }
   ],
   "source": [
    "#Write Q7 here\n",
    "def process_string(input_string: str) -> str:\n",
    "    modified_string = input_string.replace(\" \", \"_\")\n",
    "    modified_string = modified_string.upper()\n",
    "   \n",
    "    vowels = \"AEIOU\"\n",
    "    words = modified_string.split(\"_\") \n",
    "    modified_words = []\n",
    "    for word in words:\n",
    "        new_word = \"\"\n",
    "        for char in word:\n",
    "            if char not in vowels:  \n",
    "                new_word += char\n",
    "        modified_words.append(new_word)\n",
    "    \n",
    "    modified_words = [word[::-1] for word in modified_words]\n",
    "    modified_string = \"_\".join(modified_words)\n",
    "    modified_string = modified_string[::-1]\n",
    "    return modified_string\n",
    "\n",
    "\n",
    "def wrapper_function(input_string: str) -> str:\n",
    "    return process_string(input_string)\n",
    "\n",
    "print(wrapper_function(\"hello world\"))\n",
    "print(wrapper_function(\"How are you doing?\"))\n",
    "print(wrapper_function(\"World\"))\n"
   ]
  },
  {
   "cell_type": "code",
   "execution_count": 8,
   "metadata": {},
   "outputs": [
    {
     "name": "stdout",
     "output_type": "stream",
     "text": [
      "False\n",
      "True\n",
      "False\n",
      "False\n"
     ]
    }
   ],
   "source": [
    "#Write Q8 here\n",
    "def is_prime(number: int) -> bool:\n",
    "    if number <= 1:  \n",
    "        return False\n",
    "    for any_number in range(2, number - 1):  \n",
    "        if number % any_number == 0:  \n",
    "            return False\n",
    "    else:\n",
    "        return True \n",
    "\n",
    "print(is_prime(38))\n",
    "print(is_prime(5))  \n",
    "print(is_prime(10)) \n",
    "print(is_prime(1)) "
   ]
  },
  {
   "cell_type": "markdown",
   "metadata": {},
   "source": [
    "## Recursion"
   ]
  },
  {
   "cell_type": "markdown",
   "metadata": {},
   "source": [
    "Q9. Write a function that recursively calculates the length of a string\n",
    "\n",
    "Q10. Write a function that recursively calcluates the sum of numbers in a list"
   ]
  },
  {
   "cell_type": "code",
   "execution_count": null,
   "metadata": {},
   "outputs": [],
   "source": [
    "#Write Q9 here\n",
    "def recursive_length(the_string: str) -> int:\n",
    "    if the_string == \"\":\n",
    "        return 0\n",
    "    return 1 + recursive_length(the_string[1:])\n",
    "\n",
    "print(recursive_length(\"hello\"))\n",
    "print(recursive_length(\"\"))"
   ]
  },
  {
   "cell_type": "code",
   "execution_count": 9,
   "metadata": {},
   "outputs": [
    {
     "name": "stdout",
     "output_type": "stream",
     "text": [
      "10\n",
      "60\n",
      "0\n"
     ]
    }
   ],
   "source": [
    "#Write Q10 here\n",
    "def recursive_sum(numbers: list[int]) -> int:\n",
    "    if not numbers:\n",
    "        return 0\n",
    "    else:\n",
    "        return numbers[0] + recursive_sum(numbers[1:])\n",
    "\n",
    "print(recursive_sum([1, 2, 3, 4]))\n",
    "print(recursive_sum([10, 20, 30]))\n",
    "print(recursive_sum([]))"
   ]
  }
 ],
 "metadata": {
  "kernelspec": {
   "display_name": "colby",
   "language": "python",
   "name": "python3"
  },
  "language_info": {
   "codemirror_mode": {
    "name": "ipython",
    "version": 3
   },
   "file_extension": ".py",
   "mimetype": "text/x-python",
   "name": "python",
   "nbconvert_exporter": "python",
   "pygments_lexer": "ipython3",
   "version": "3.9.6"
  }
 },
 "nbformat": 4,
 "nbformat_minor": 2
}
