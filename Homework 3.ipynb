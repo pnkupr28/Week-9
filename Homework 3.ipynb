{
 "cells": [
  {
   "cell_type": "markdown",
   "metadata": {},
   "source": [
    "# Homework 3\n",
    "\n",
    "Complete this notebook submit on GitHub"
   ]
  },
  {
   "cell_type": "markdown",
   "metadata": {},
   "source": [
    "## Data Structures"
   ]
  },
  {
   "cell_type": "markdown",
   "metadata": {},
   "source": [
    "Q1. Write a function that takes in a set of words and a list of words and returns a dictionary of the words in the list that are in the set and their count.\n",
    "\n",
    "Example\n",
    "\n",
    "| input | output |\n",
    "|-------|--------|\n",
    "| f({'movie', 'good', 'hello'}, ['hello', 'good', 'hello']) | {'movie': 0, 'hello': 2, 'good': 1} |\n",
    "| f({}, ['hello', 'good', 'movie']) | {} |\n",
    "| f({'hello', 'movie', 'good'}, []) | {'movie': 0, 'hello': 0, 'good': 0} |\n",
    "\n"
   ]
  },
  {
   "cell_type": "code",
   "execution_count": 1,
   "metadata": {},
   "outputs": [],
   "source": [
    "# Write Q1 here\n",
    "def word_set_count(set_of_words: set[str]) -> dict[str, int]:\n",
    "    "
   ]
  },
  {
   "cell_type": "markdown",
   "metadata": {},
   "source": [
    "Q2. Write a function that takes in a string and returns the count of **each alphabet**.\n",
    "\n",
    "| input | output |\n",
    "|-------|--------|\n",
    "| f(\"hello\") | {'h': 1, 'e': 1, 'l': 2, 'o': 1} |\n",
    "| f(\"test\") | {'t': 2, 'e': 1, 's': 1} |\n",
    "| f(\"\") | {} |\n",
    "| f(\"hello test\") | {'h': 1, 'e': 2, 'l': 2, 'o': 1, 't': 2, 's': 1} |\n"
   ]
  },
  {
   "cell_type": "code",
   "execution_count": 2,
   "metadata": {},
   "outputs": [],
   "source": [
    "# Write Q2 here"
   ]
  },
  {
   "cell_type": "markdown",
   "metadata": {},
   "source": [
    "## Functions"
   ]
  },
  {
   "cell_type": "markdown",
   "metadata": {},
   "source": [
    "Q3. What are functions? How would you define them?\n",
    "\n",
    "Q4. What are function signatures?\n",
    "\n",
    "Q5. What are parameters? How many parameters can you define in a function?\n",
    "\n",
    "Q6. What is the purpose of a return statement? What happens when you don't have a return statement, what does the function return?\n",
    "\n",
    "Q7. Write a function `process_string` that processes string as follows (note the order of each step is not important):\n",
    "\n",
    "* Replaces spaces with \"_\"\n",
    "* Convert lowercase letters to uppercase letters\n",
    "* Remove vowels from each word\n",
    "* Reverse the string\n",
    "* Write a wrapper function\n",
    "\n",
    "For each task write a single function and then call those functions in `process_string`\n",
    "\n",
    "\n",
    "| input | output |\n",
    "|-------|--------|\n",
    "| processing_string(\"Hello World\") | WRLD_HLL |\n",
    "| process_string(\"How are you doing?\") | DNG_Y_R_HW |\n",
    "| process_string(\"World\") | WRLD |\n",
    "\n",
    "\n",
    "Q8. Write a function that checks if a number is prime or not. Note that the definition of a prime number is that it is only divisble by 1 and itself. "
   ]
  },
  {
   "cell_type": "markdown",
   "metadata": {},
   "source": [
    "## Recursion"
   ]
  },
  {
   "cell_type": "markdown",
   "metadata": {},
   "source": [
    "Q9. Write a function that recursively calculates the length of a string\n",
    "\n",
    "\n",
    "Q10. Write a function that recursively calcluates the sum of numbers in a list"
   ]
  }
 ],
 "metadata": {
  "kernelspec": {
   "display_name": "colby",
   "language": "python",
   "name": "python3"
  },
  "language_info": {
   "codemirror_mode": {
    "name": "ipython",
    "version": 3
   },
   "file_extension": ".py",
   "mimetype": "text/x-python",
   "name": "python",
   "nbconvert_exporter": "python",
   "pygments_lexer": "ipython3",
   "version": "3.9.6"
  }
 },
 "nbformat": 4,
 "nbformat_minor": 2
}
